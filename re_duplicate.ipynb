{
 "cells": [
  {
   "cell_type": "code",
   "execution_count": 1,
   "metadata": {},
   "outputs": [
    {
     "name": "stdout",
     "output_type": "stream",
     "text": [
      "This a test sentence is\n"
     ]
    }
   ],
   "source": [
    "import re\n",
    "\n",
    "def remove_duplicate_phrases(sentence):\n",
    "    # Split the sentence into phrases (sequences of words separated by spaces)\n",
    "    phrases = re.split(r'\\s+', sentence)\n",
    "    \n",
    "    # Create a set to store unique phrases\n",
    "    unique_phrases = set()\n",
    "    \n",
    "    # Iterate through the phrases and add them to the set\n",
    "    for phrase in phrases:\n",
    "        # Remove punctuation from the phrase\n",
    "        phrase = re.sub(r'[^\\w\\s]', '', phrase)\n",
    "        # Add the phrase to the set\n",
    "        unique_phrases.add(phrase)\n",
    "    \n",
    "    # Join the unique phrases back into a sentence\n",
    "    result = ' '.join(unique_phrases)\n",
    "    \n",
    "    return result\n",
    "\n",
    "# Test the function\n",
    "sentence = \"This is a test sentence. This sentence is a test. This is a test.\"\n",
    "print(remove_duplicate_phrases(sentence))"
   ]
  }
 ],
 "metadata": {
  "kernelspec": {
   "display_name": ".venv",
   "language": "python",
   "name": "python3"
  },
  "language_info": {
   "codemirror_mode": {
    "name": "ipython",
    "version": 3
   },
   "file_extension": ".py",
   "mimetype": "text/x-python",
   "name": "python",
   "nbconvert_exporter": "python",
   "pygments_lexer": "ipython3",
   "version": "3.11.9"
  }
 },
 "nbformat": 4,
 "nbformat_minor": 2
}
