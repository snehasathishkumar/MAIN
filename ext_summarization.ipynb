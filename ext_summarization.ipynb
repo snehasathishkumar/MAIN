{
 "cells": [
  {
   "cell_type": "code",
   "execution_count": 17,
   "metadata": {},
   "outputs": [
    {
     "name": "stderr",
     "output_type": "stream",
     "text": [
      "[nltk_data] Downloading package punkt to\n",
      "[nltk_data]     C:\\Users\\sathi\\AppData\\Roaming\\nltk_data...\n",
      "[nltk_data]   Package punkt is already up-to-date!\n",
      "[nltk_data] Downloading package stopwords to\n",
      "[nltk_data]     C:\\Users\\sathi\\AppData\\Roaming\\nltk_data...\n",
      "[nltk_data]   Package stopwords is already up-to-date!\n"
     ]
    },
    {
     "data": {
      "text/plain": [
       "True"
      ]
     },
     "execution_count": 17,
     "metadata": {},
     "output_type": "execute_result"
    }
   ],
   "source": [
    "# Required Libraries\n",
    "# import gensim\n",
    "from gensim.models import Word2Vec\n",
    "from sklearn.metrics.pairwise import cosine_similarity\n",
    "import numpy as np\n",
    "import nltk\n",
    "from nltk.tokenize import sent_tokenize, word_tokenize\n",
    "from nltk.corpus import stopwords\n",
    "import string\n",
    " \n",
    "# Download stopwords if not already downloaded\n",
    "nltk.download('punkt')\n",
    "nltk.download('stopwords')"
   ]
  },
  {
   "cell_type": "code",
   "execution_count": 18,
   "metadata": {},
   "outputs": [],
   "source": [
    "\n",
    "# # Sample text\n",
    "# text = \"\"\"\n",
    "# Your sample text goes here.\n",
    "# It can be multiple paragraphs and sentences.\n",
    "# The longer, the better for a good summary.\n",
    "# \"\"\"\n",
    "\n",
    "# with open('./first_chapter.pdf', 'r') as f:\n",
    "#     text = f.read()\n",
    "\n",
    "# import PyPDF2\n",
    "\n",
    "# text  = \" \"\n",
    "# pdf = PyPDF2.PdfReader(\"first_chapter.pdf\")\n",
    "# for page in pdf.pages:\n",
    "#     text += page.extract_text()\n",
    "\n",
    "# print(text)\n",
    "\n",
    "import pymupdf # imports the pymupdf library\n",
    "text = \"\"\n",
    "doc = pymupdf.open(\"first_chapter.pdf\") # open a document\n",
    "for page in doc: # iterate the document pages\n",
    "  text += page.get_text() # get plain text encoded as UTF-8"
   ]
  },
  {
   "cell_type": "code",
   "execution_count": 19,
   "metadata": {},
   "outputs": [
    {
     "data": {
      "text/plain": [
       "'5\\n2024 DBIR Introduction\\nIntroduction\\nGreetings! Welcome to Verizon’s 2024 Data Breach Investigations Report (DBIR). \\nThis year marks the 17th edition of this publication, and we are thrilled to welcome \\nback our old friends and say hello to new readers. As always, the aim of the DBIR is \\nto shine a light on the various Actor types, the tactics they utilize and the targets they \\nchoose. Thanks to our talented, generous and civic-minded contributors from around \\nthe world who continue to stick with us and share their data and insight, and deep \\nappreciation for our very own Verizon Threat Research Advisory Center (VTRAC) \\nteam (rock stars that they are). These two groups enable us to examine and analyze \\nrelevant trends in cybercrime that play out on a global stage across organizations of \\nall sizes and types.\\nFrom year to year, we see new and innovative attacks as well as variations on tried-\\nand-true attacks that still remain successful. From the exploitation of well-known \\nand far-reaching zero-day vulnerabilities, such as the one that affected MOVEit, to \\nthe much more mundane but still incredibly effective Ransomware and Denial of \\nService (DoS) attacks, criminals continue to do their utmost to prove the old adage \\n“crime does not pay” wrong.\\nThe shifting landscape of cyber threats can be confusing and overwhelming. When, \\nin addition to the attack types mentioned above, one throws in factors such as the \\nhuman element and/or poorly protected passwords, things become even more \\nconfused. One might be forgiven for viewing the current state of cybersecurity \\nas a colorful cyber Mardi Gras parade. Enterprise floats of all shapes and sizes \\ncruising past a large crowd of threat actors who are shouting out gleefully “Throw \\nme some creds!” Of course, human nature being what it is, all too often, the folks \\non the floats do just that. And, as with all such parades, what is left in the aftermath \\nisn’t necessarily pretty. The past year has been a busy one for cybercrime. We \\nanalyzed 30,458 real-world security incidents, of which 10,626 were confirmed data \\nbreaches (a record high!), with victims spanning 94 countries.\\nWhile the general structure of the report remains the same, long-time readers may \\nnotice a few changes. For example, the “first-time reader” section is now located in \\nAppendix A rather than at the beginning of the report. But we do encourage those \\nwho are new to the DBIR to give it a read-through before diving into the report. It \\nshould help you get your bearings.\\nLast, but certainly not least, we extend a most sincere thanks yet again to our \\ncontributors (without whom we could not do this) and to our readers (without whom \\nthere would be no point in doing it).\\nSincerely,\\nThe Verizon DBIR Team \\nC. David Hylender, Philippe Langlois, Alex Pinto, Suzanne Widup\\nVery special thanks to:\\n– Christopher Novak for his continued support and insight\\n– Dave Kennedy and Erika Gifford from VTRAC\\n– \\x07\\nKate Kutchko, Marziyeh Khanouki and Yoni Fridman from the Verizon Business \\nProduct Data Science Team\\n6\\n2024 DBIR Helpful guidance\\nHelpful guidance\\nAbout the 2024 DBIR incident dataset\\nEach year, the DBIR timeline for in-scope incidents is from November 1 of one \\ncalendar year through October 31 of the next calendar year. Thus, the incidents \\ndescribed in this report took place between November 1, 2022, and October 31, \\n2023. The 2023 caseload is the primary analytical focus of the 2024 report, but \\nthe entire range of data is referenced throughout, notably in trending graphs. The \\ntime between the latter date and the date of publication for this report is spent in \\nacquiring the data from our global contributors, anonymizing and aggregating that \\ndata, analyzing the dataset, and finally creating the graphics and writing the report. \\nThe jokes, sadly, do not write themselves.\\nCredit where credit is due\\nTurns out folks enjoy citing the report, and we often get asked how to go about \\ndoing it.\\nYou are permitted to include statistics, figures and other information from the report, \\nprovided that (a) you cite the source as “Verizon 2024 Data Breach Investigations \\nReport” and (b) the content is not modified in any way. Exact quotes are permitted, \\nbut paraphrasing requires review. If you would like to provide people a copy of the \\nreport, we ask that you provide them a link to verizon.com/dbir rather than the PDF.\\nQuestions? Comments? Concerns? Love to \\nshare cute pet pictures?\\nLet us know! Send us a note at dbir@verizon.com, find us on LinkedIn, \\ntweet @VerizonBusiness with #dbir. Got a data question?  \\nTweet @VZDBIR!\\nIf your organization aggregates incident or security data and is interested \\nin becoming a contributor to the annual Verizon DBIR (and we hope you \\nare), the process is very easy and straightforward. Please email us at  \\ndbircontributor@verizon.com.\\n7\\nFigure 2. Ransomware and Extortion breaches over time\\nSummary of findings\\nOur ways-in analysis witnessed a \\nsubstantial growth of attacks involving \\nthe exploitation of vulnerabilities as the \\ncritical path to initiate a breach when \\ncompared to previous years. It almost \\ntripled (180% increase) from last year, \\nwhich will come as no surprise to \\nanyone who has been following the \\neffect of MOVEit and similar zero-day \\nvulnerabilities. These attacks were \\nprimarily leveraged by Ransomware \\nand other Extortion-related threat \\nactors. As one might imagine, the main \\nvector for those initial entry points was \\nWeb applications.\\n2024 DBIR Summary of findings\\nFigure 1. Select ways-in enumerations in non-Error, non-Misuse breaches \\n(n=6,963)\\nRoughly one-third of all breaches \\ninvolved Ransomware or some other \\nExtortion technique. Pure Extortion \\nattacks have risen over the past year \\nand are now a component of 9% of \\nall breaches. The shift of traditional \\nransomware actors toward these newer \\ntechniques resulted in a bit of a decline \\nin Ransomware to 23%. However, when \\ncombined, given that they share threat \\nactors, they represent a strong growth \\nto 32% of breaches. Ransomware was \\na top threat across 92% of industries.\\n8\\n2024 DBIR Summary of findings\\nWe have revised our calculation of the \\ninvolvement of the human element to \\nexclude malicious Privilege Misuse in \\nan effort to provide a clearer metric of \\nwhat security awareness can affect. For \\nthis year’s dataset, the human element \\nwas a component of 68% of breaches, \\nroughly the same as the previous period \\ndescribed in the 2023 DBIR.\\nIn this issue, we are introducing an \\nexpanded concept of a breach involving \\na third party that includes partner \\ninfrastructure being affected and \\ndirect or indirect software supply chain \\nissues—including when an organization \\nis affected by vulnerabilities in third-\\nparty software. In short, those are \\nbreaches an organization could \\npotentially mitigate or prevent by trying \\nto select vendors with better security \\ntrack records. We see this figure at \\n15% this year, a 68% increase from the \\nprevious year, mostly fueled by the use \\nof zero-day exploits for Ransomware \\nand Extortion attacks.\\nOur dataset saw a growth of breaches \\ninvolving Errors, now at 28%, as we \\nbroadened our contributor base to \\ninclude several new mandatory breach \\nnotification entities. This validates \\nour suspicion that errors are more \\nprevalent than media or traditional \\nincident response-driven bias would \\nlead us to believe.\\nFigure 3. Select key enumerations in breaches\\n9\\nFigure 4. Phishing email report rate by click status\\n2024 DBIR Summary of findings\\nFinancially motivated threat actors will \\ntypically stick to the attack techniques \\nthat will give them the most return  \\non investment.\\nOver the past three years, the \\ncombination of Ransomware and \\nother Extortion breaches accounted \\nfor almost two-thirds (fluctuating \\nbetween 59% and 66%) of those \\nattacks. According to the FBI’s \\nInternet Crime Complaint Center \\n(IC3) ransomware complaint data, \\nthe median loss associated with the \\ncombination of Ransomware and \\nother Extortion breaches has been \\n$46,000, ranging between $3 (three \\ndollars) and $1,141,467 for 95% of the \\ncases. We also found from ransomware \\nnegotiation data contributors that \\nthe median ratio of initially requested \\nransom and company revenue is 1.34%, \\nbut it fluctuated between 0.13% and \\n8.30% for 80% of the cases.\\nSimilarly, over the past two years, we \\nhave seen incidents involving Pretexting \\n(the majority of which had Business \\nEmail Compromise [BEC] as the \\noutcome) accounting for one-fourth \\n(ranging between 24% and 25%) of \\nfinancially motivated attacks. In both \\nyears, the median transaction amount \\nof a BEC was around $50,000, also \\naccording to the FBI IC3 dataset.\\nThe overall reporting rate of Phishing \\nhas been growing over the past few \\nyears. In security awareness exercise \\ndata contributed by our partners during \\n2023, 20% of users reported phishing \\nin simulation engagements, and 11% \\nof the users who clicked the email \\nalso reported. This is welcome news \\nbecause on the flip side, the median \\ntime to click on a malicious link after the \\nemail is opened is 21 seconds and then \\nonly another 28 seconds for the person \\ncaught in the phishing scheme to enter \\ntheir data. This leads to an alarming \\nfinding: The median time for users  \\nto fall for phishing emails is less than  \\n60 seconds.\\nFigure 4. Phishing email report rate by click status\\nFigure 5. Select action varieties in Financial motive over time\\n'"
      ]
     },
     "execution_count": 19,
     "metadata": {},
     "output_type": "execute_result"
    }
   ],
   "source": [
    "text"
   ]
  },
  {
   "cell_type": "code",
   "execution_count": 20,
   "metadata": {},
   "outputs": [],
   "source": [
    "\n",
    "# Preprocessing Function\n",
    "def preprocess_text(text):\n",
    "    stop_words = set(stopwords.words('english'))\n",
    "    sentences = sent_tokenize(text)\n",
    "    cleaned_sentences = []\n",
    "    for sentence in sentences:\n",
    "        words = word_tokenize(sentence.lower())\n",
    "        words = [word for word in words if word.isalnum() and word not in stop_words]\n",
    "        cleaned_sentences.append(words)\n",
    "    return cleaned_sentences, sentences\n",
    " \n",
    "# Get cleaned sentences and original sentences\n",
    "cleaned_sentences, original_sentences = preprocess_text(text)"
   ]
  },
  {
   "cell_type": "code",
   "execution_count": 21,
   "metadata": {},
   "outputs": [],
   "source": [
    "\n",
    "# Train Word2Vec Model\n",
    "model = Word2Vec(cleaned_sentences, vector_size=100, window=5, min_count=1, workers=4, sg=1)"
   ]
  },
  {
   "cell_type": "code",
   "execution_count": 22,
   "metadata": {},
   "outputs": [
    {
     "data": {
      "text/plain": [
       "<gensim.models.word2vec.Word2Vec at 0x27666fe70a0>"
      ]
     },
     "execution_count": 22,
     "metadata": {},
     "output_type": "execute_result"
    }
   ],
   "source": [
    "model"
   ]
  },
  {
   "cell_type": "code",
   "execution_count": 23,
   "metadata": {},
   "outputs": [],
   "source": [
    "\n",
    "# Function to get sentence vector\n",
    "def get_sentence_vector(sentence, model):\n",
    "    words = [word for word in word_tokenize(sentence.lower()) if word in model.wv.key_to_index]\n",
    "    if not words:\n",
    "        return np.zeros(model.vector_size)\n",
    "    return np.mean([model.wv[word] for word in words], axis=0)\n",
    " \n",
    "# Compute sentence vectors\n",
    "sentence_vectors = np.array([get_sentence_vector(sentence, model) for sentence in original_sentences])"
   ]
  },
  {
   "cell_type": "code",
   "execution_count": 24,
   "metadata": {},
   "outputs": [
    {
     "data": {
      "text/plain": [
       "array([[ 4.4709756e-03, -1.1446456e-03, -2.6393358e-03, ...,\n",
       "        -3.5235591e-03,  1.6300149e-03,  3.8390057e-03],\n",
       "       [-5.7068036e-04, -2.0926401e-03,  1.5961392e-03, ...,\n",
       "        -1.6243136e-03,  1.9475080e-03,  1.4308986e-03],\n",
       "       [ 1.7785339e-03, -7.2972395e-04,  3.8468701e-04, ...,\n",
       "        -1.6588650e-03, -6.9630929e-05, -1.9532049e-03],\n",
       "       ...,\n",
       "       [-7.7060089e-03,  6.6419081e-03,  2.7411073e-03, ...,\n",
       "         8.0831554e-03, -1.7807402e-03, -7.3565086e-03],\n",
       "       [ 2.6426851e-03,  5.3675869e-03, -1.5455144e-03, ...,\n",
       "         1.2751862e-03,  1.2821684e-04, -1.4449992e-03],\n",
       "       [ 2.4512855e-03,  1.6525927e-03,  2.3703310e-03, ...,\n",
       "         2.1292856e-03, -3.4080192e-03,  2.4451914e-03]], dtype=float32)"
      ]
     },
     "execution_count": 24,
     "metadata": {},
     "output_type": "execute_result"
    }
   ],
   "source": [
    "sentence_vectors"
   ]
  },
  {
   "cell_type": "code",
   "execution_count": 25,
   "metadata": {},
   "outputs": [],
   "source": [
    "\n",
    "# Keyword similarity function\n",
    "def rank_sentences_by_keyword(keyword, sentence_vectors, original_sentences, model):\n",
    "    keyword_vector = get_sentence_vector(keyword, model).reshape(1, -1)\n",
    "    similarities = cosine_similarity(keyword_vector, sentence_vectors).flatten()\n",
    "    ranked_indices = [index for index, _ in sorted(enumerate(similarities), key=lambda x: x[1], reverse=True)]\n",
    "    ranked_sentences = [original_sentences[i] for i in ranked_indices]\n",
    "    return ranked_sentences, ranked_indices"
   ]
  },
  {
   "cell_type": "code",
   "execution_count": 26,
   "metadata": {},
   "outputs": [],
   "source": [
    "\n",
    "# Summarize based on keyword\n",
    "def summarize(text, keyword, num_sentences=5):\n",
    "    cleaned_sentences, original_sentences = preprocess_text(text)\n",
    "    model = Word2Vec(cleaned_sentences, vector_size=100, window=5, min_count=1, workers=4,sg=1)\n",
    "    sentence_vectors = np.array([get_sentence_vector(sentence, model) for sentence in original_sentences])\n",
    "    ranked_sentences, ranked_indices = rank_sentences_by_keyword(keyword, sentence_vectors, original_sentences, model)\n",
    "    top_indices = sorted(ranked_indices[:num_sentences])\n",
    "    summary = ' '.join([original_sentences[i] for i in top_indices])\n",
    "    return summary"
   ]
  },
  {
   "cell_type": "code",
   "execution_count": 27,
   "metadata": {},
   "outputs": [
    {
     "name": "stdout",
     "output_type": "stream",
     "text": [
      "These attacks were \n",
      "primarily leveraged by Ransomware \n",
      "and other Extortion-related threat \n",
      "actors. Ransomware was \n",
      "a top threat across 92% of industries. We see this figure at \n",
      "15% this year, a 68% increase from the \n",
      "previous year, mostly fueled by the use \n",
      "of zero-day exploits for Ransomware \n",
      "and Extortion attacks. Over the past three years, the \n",
      "combination of Ransomware and \n",
      "other Extortion breaches accounted \n",
      "for almost two-thirds (fluctuating \n",
      "between 59% and 66%) of those \n",
      "attacks. According to the FBI’s \n",
      "Internet Crime Complaint Center \n",
      "(IC3) ransomware complaint data, \n",
      "the median loss associated with the \n",
      "combination of Ransomware and \n",
      "other Extortion breaches has been \n",
      "$46,000, ranging between $3 (three \n",
      "dollars) and $1,141,467 for 95% of the \n",
      "cases.\n"
     ]
    }
   ],
   "source": [
    "\n",
    "# Example usage\n",
    "keyword = \"threat, malware, ransomware\"\n",
    "summary = summarize(text, keyword)\n",
    "print(summary)"
   ]
  },
  {
   "cell_type": "code",
   "execution_count": null,
   "metadata": {},
   "outputs": [],
   "source": []
  }
 ],
 "metadata": {
  "kernelspec": {
   "display_name": ".venv",
   "language": "python",
   "name": "python3"
  },
  "language_info": {
   "codemirror_mode": {
    "name": "ipython",
    "version": 3
   },
   "file_extension": ".py",
   "mimetype": "text/x-python",
   "name": "python",
   "nbconvert_exporter": "python",
   "pygments_lexer": "ipython3",
   "version": "3.10.10"
  }
 },
 "nbformat": 4,
 "nbformat_minor": 2
}
