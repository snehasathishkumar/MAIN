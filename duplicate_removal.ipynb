{
 "cells": [
  {
   "cell_type": "code",
   "execution_count": 1,
   "metadata": {},
   "outputs": [
    {
     "name": "stderr",
     "output_type": "stream",
     "text": [
      "c:\\Users\\99013031\\Desktop\\MAIN\\.venv\\Lib\\site-packages\\tqdm\\auto.py:21: TqdmWarning: IProgress not found. Please update jupyter and ipywidgets. See https://ipywidgets.readthedocs.io/en/stable/user_install.html\n",
      "  from .autonotebook import tqdm as notebook_tqdm\n"
     ]
    }
   ],
   "source": [
    "import numpy as np\n",
    "from sklearn.metrics.pairwise import cosine_similarity\n",
    "from transformers import AutoTokenizer, AutoModel"
   ]
  },
  {
   "cell_type": "code",
   "execution_count": 2,
   "metadata": {},
   "outputs": [],
   "source": [
    "# Load the pre-trained model and tokenizer\n",
    "model_name = 'sentence-transformers/paraphrase-MiniLM-L6-v2'\n"
   ]
  },
  {
   "cell_type": "code",
   "execution_count": 3,
   "metadata": {},
   "outputs": [],
   "source": [
    "tokenizer = AutoTokenizer.from_pretrained(model_name)\n"
   ]
  },
  {
   "cell_type": "code",
   "execution_count": 4,
   "metadata": {},
   "outputs": [],
   "source": [
    "model = AutoModel.from_pretrained(model_name)"
   ]
  },
  {
   "cell_type": "code",
   "execution_count": 29,
   "metadata": {},
   "outputs": [],
   "source": [
    "\n",
    "def get_embeddings(sentences):\n",
    "    # Tokenize and encode the sentences\n",
    "    inputs = tokenizer(sentences, padding=True, truncation=True, return_tensors='pt')\n",
    "    outputs = model(**inputs)\n",
    "    # Mean pooling to get sentence embeddings\n",
    "    embeddings = outputs.last_hidden_state.mean(dim=1)\n",
    "    return embeddings\n",
    " \n",
    "def remove_similar_lines(text, similarity_threshold = 0.5):\n",
    "    lines = text.split('.')\n",
    "    embeddings = get_embeddings(lines)\n",
    "    similarities = cosine_similarity(embeddings.detach().numpy())\n",
    "    \n",
    "    # Identify and remove similar lines\n",
    "    to_remove = set()\n",
    "    for i in range(len(lines)):\n",
    "        if i in to_remove:\n",
    "            continue\n",
    "        for j in range(i + 1, len(lines)):\n",
    "            if similarities[i, j] > similarity_threshold:\n",
    "                to_remove.add(j)\n",
    " \n",
    "    # Retain only unique lines\n",
    "    unique_lines = [line for i, line in enumerate(lines) if i not in to_remove]\n",
    "    return '\\n'.join(unique_lines)\n"
   ]
  },
  {
   "cell_type": "code",
   "execution_count": 31,
   "metadata": {},
   "outputs": [
    {
     "name": "stdout",
     "output_type": "stream",
     "text": [
      "Original Text\n",
      "------------------------------\n",
      "13\n",
      "Shortened Text\n",
      "------------------------------\n",
      "The new smartphone is a game-changer in the world of technology\n"
     ]
    }
   ],
   "source": [
    "\n",
    "# # Example usage\n",
    "# with open('./first_chapter.pdf.txt', 'r') as f:\n",
    "#     text = f.read()\n",
    "\n",
    "\n",
    "# import pymupdf # imports the pymupdf library\n",
    "# text = \"\"\n",
    "# doc = pymupdf.open(\"first_chapter.pdf\") # open a document\n",
    "# for page in doc: # iterate the document pages\n",
    "#   text += page.get_text() # get plain text encoded as UTF-8\n",
    "\n",
    "text = \"The new smartphone is a game-changer in the world of technology. It's a game-changer in the world of technology, with its advanced features and sleek design. The smartphone is a game-changer, with its ability to take high-quality photos and videos. It's a game-changer, with its advanced camera system and long-lasting battery life. The smartphone is a game-changer, with its fast processor and ample storage space. It's a game-changer, with its sleek design and user-friendly interface. The smartphone is a game-changer, with its ability to stay connected to the internet and access a wide range of apps. It's a game-changer, with its advanced security features and ability to keep personal data safe. The smartphone is a game-changer, with its ability to make and receive calls, send texts, and access the internet. It's a game-changer, with its advanced features and sleek design. The smartphone is a game-changer, with its ability to take high-quality photos and videos. It's a game-changer, with its advanced camera system and long-lasting battery life.\"\n",
    "print('Original Text')\n",
    "print('------------------------------')\n",
    "print(len(text.split(\".\")))\n",
    " \n",
    "shortened_text = remove_similar_lines(text)\n",
    "print('Shortened Text')\n",
    "print('------------------------------')\n",
    "print(shortened_text)"
   ]
  },
  {
   "cell_type": "code",
   "execution_count": null,
   "metadata": {},
   "outputs": [],
   "source": []
  }
 ],
 "metadata": {
  "kernelspec": {
   "display_name": ".venv",
   "language": "python",
   "name": "python3"
  },
  "language_info": {
   "codemirror_mode": {
    "name": "ipython",
    "version": 3
   },
   "file_extension": ".py",
   "mimetype": "text/x-python",
   "name": "python",
   "nbconvert_exporter": "python",
   "pygments_lexer": "ipython3",
   "version": "3.11.9"
  }
 },
 "nbformat": 4,
 "nbformat_minor": 2
}
